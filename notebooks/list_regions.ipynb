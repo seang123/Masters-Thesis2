{
 "cells": [
  {
   "cell_type": "code",
   "execution_count": 62,
   "id": "36b5ee2b",
   "metadata": {},
   "outputs": [],
   "source": [
    "import numpy as np\n",
    "import pandas as pd\n",
    "import matplotlib.pyplot as plt\n",
    "import os\n",
    "import glob"
   ]
  },
  {
   "cell_type": "code",
   "execution_count": 63,
   "id": "1531264f",
   "metadata": {},
   "outputs": [
    {
     "name": "stdout",
     "output_type": "stream",
     "text": [
      "['subject_1_layer_norm', 'subject_2_baseline2', 'all_subjects', 'test_ms3', 'subject_2_attn_layer_norm', 'subject_2_dense_layer_norm', 'subject_1_and_2', 'subs_1_2_5_7', 'subject_2_lstm_layer_norm', 'subject_2_attn_loss', 'subject_2_layer_norm', 'subject_2_both_layer_norm', 'all_subjects_2']\n"
     ]
    }
   ],
   "source": [
    "eval_dir = '/home/hpcgies1/Masters-Thesis/AttemptFour/Log/'\n",
    "models = os.listdir(eval_dir)\n",
    "print(models)\n",
    "\n",
    "df_regions = pd.read_csv(\"~/Masters-Thesis/AttemptFour/TrainData/unique_regions_list.csv\")"
   ]
  },
  {
   "cell_type": "code",
   "execution_count": 64,
   "id": "54da6cce",
   "metadata": {},
   "outputs": [],
   "source": [
    "def load_data(fname):\n",
    "    with open(fname, \"rb\") as f:\n",
    "        data = np.load(f)\n",
    "    return np.squeeze(data, axis=-1)"
   ]
  },
  {
   "cell_type": "code",
   "execution_count": 65,
   "id": "2f19f7c4",
   "metadata": {},
   "outputs": [
    {
     "name": "stdout",
     "output_type": "stream",
     "text": [
      "subject_2_baseline2 (515, 15, 360)\n",
      "all_subjects (4120, 15, 360)\n",
      "subject_2_attn_layer_norm (515, 15, 360)\n",
      "subject_2_dense_layer_norm (515, 15, 360)\n",
      "subject_1_and_2 (2, 515, 15, 360)\n",
      "subject_2_lstm_layer_norm (515, 15, 360)\n",
      "subject_2_layer_norm (515, 15, 360)\n",
      "subject_2_both_layer_norm (515, 15, 360)\n"
     ]
    }
   ],
   "source": [
    "data = {}\n",
    "for i, m in enumerate(models):\n",
    "    p = glob.glob(f\"{eval_dir}/{m}/eval_out/attention_scores_*\")\n",
    "    if p != []:\n",
    "        data[m] = load_data(p[0])\n",
    "\n",
    "for k,v in data.items():\n",
    "    print(k, v.shape)"
   ]
  },
  {
   "cell_type": "code",
   "execution_count": 66,
   "id": "5a5293fd",
   "metadata": {},
   "outputs": [
    {
     "data": {
      "text/plain": [
       "('Primary_Visual_Cortex_L', 'V1_L')"
      ]
     },
     "execution_count": 66,
     "metadata": {},
     "output_type": "execute_result"
    }
   ],
   "source": [
    "def idx_to_region(idx: int):\n",
    "    \"\"\"\n",
    "    idx: int [0, 360)\n",
    "    \"\"\"\n",
    "    return df_regions.iloc[idx].regionLongName, df_regions.iloc[idx].regionName\n",
    "idx_to_region(0)"
   ]
  },
  {
   "cell_type": "code",
   "execution_count": 72,
   "id": "cb8a0195",
   "metadata": {},
   "outputs": [
    {
     "data": {
      "image/png": "[encoded data removed]",
      "text/plain": [
       "<Figure size 432x288 with 1 Axes>"
      ]
     },
     "metadata": {
      "needs_background": "light"
     },
     "output_type": "display_data"
    }
   ],
   "source": [
    "x1 = data['all_subjects']\n",
    "x1 = np.mean(x1, axis=(0,1))\n",
    "x1_idx = np.argsort(x1)[::-1]\n",
    "x1 = x1[x1_idx]\n",
    "plt.plot(x1[:])\n",
    "plt.show()"
   ]
  },
  {
   "cell_type": "code",
   "execution_count": 71,
   "id": "47981b5e",
   "metadata": {
    "scrolled": false
   },
   "outputs": [
    {
     "name": "stdout",
     "output_type": "stream",
     "text": [
      "Area_PGp_L\n",
      "Area_TemporoParietoOccipital_Junction_3_L\n",
      "Area_Lateral_Occipital_3_L\n",
      "Area_V4t_L\n",
      "Area_PH_R\n",
      "Area_V3CD_L\n",
      "Fusiform_Face_Complex_L\n",
      "Area_FST_L\n",
      "Area_TemporoParietoOccipital_Junction_2_L\n",
      "Area_PH_L\n",
      "Medial_Superior_Temporal_Area_L\n",
      "VentroMedial_Visual_Area_3_L\n",
      "Eighth_Visual_Area_R\n",
      "Ventral_Visual_Complex_L\n",
      "Middle_Temporal_Area_L\n",
      "Eighth_Visual_Area_L\n",
      "Area_Lateral_Occipital_2_L\n",
      "VentroMedial_Visual_Area_2_L\n",
      "Dorsal_Transitional_Visual_Area_L\n",
      "Area_TE2_posterior_R\n",
      "ParaHippocampal_Area_1_L\n",
      "Posterior_InferoTemporal_complex_L\n",
      "Area_V3B_R\n",
      "VentroMedial_Visual_Area_1_L\n",
      "Seventh_Visual_Area_R\n",
      "Area_FST_R\n",
      "Area_TE1_Middle_R\n",
      "Ventral_Visual_Complex_R\n",
      "Fusiform_Face_Complex_R\n",
      "Area_V6A_L\n",
      "Parieto-Occipital_Sulcus_Area_1_L\n",
      "ParaHippocampal_Area_2_L\n",
      "ParaHippocampal_Area_3_L\n",
      "VentroMedial_Visual_Area_3_R\n",
      "IntraParietal_Sulcus_Area_1_L\n",
      "Third_Visual_Area_R\n",
      "Area_IntraParietal_0_L\n",
      "ParaHippocampal_Area_3_R\n",
      "Area_PHT_L\n",
      "Fourth_Visual_Area_R\n",
      "Area_TE1_posterior_R\n",
      "Area_Lateral_Occipital_3_R\n",
      "ParaHippocampal_Area_2_R\n",
      "Second_Visual_Area_R\n",
      "Area_V3A_R\n",
      "Sixth_Visual_Area_L\n",
      "Fourth_Visual_Area_L\n",
      "Area_PGp_R\n",
      "Seventh_Visual_Area_L\n",
      "Area_Lateral_Occipital_1_L\n",
      "Medial_Superior_Temporal_Area_R\n",
      "Posterior_InferoTemporal_complex_R\n",
      "Middle_Temporal_Area_R\n",
      "Parieto-Occipital_Sulcus_Area_1_R\n",
      "Posterior_Insular_Area_2_L\n",
      "Area_TF_L\n",
      "Area_V4t_R\n",
      "Area_ventral_23_a+b_R\n",
      "Area_TE1_anterior_R\n",
      "Area_TG_Ventral_L\n",
      "Area_TemporoParietoOccipital_Junction_3_R\n",
      "Perirhinal_Ectorhinal_Cortex_R\n",
      "Area_7m_L\n",
      "Hippocampus_R\n",
      "Area_TF_R\n",
      "Area_STGa_L\n",
      "Area_ventral_23_a+b_L\n",
      "Area_Lateral_Occipital_2_R\n",
      "Area_Lateral_Occipital_1_R\n",
      "Area_PHT_R\n",
      "PreSubiculum_L\n",
      "Area_47m_L\n",
      "Polar_10p_L\n",
      "Area_V3CD_R\n",
      "Area_TE1_anterior_L\n",
      "Perirhinal_Ectorhinal_Cortex_L\n",
      "Area_IFSp_L\n",
      "Ventral_IntraParietal_Complex_L\n",
      "Area_dorsal_23_a+b_L\n",
      "Area_47l_(47_lateral)_R\n",
      "Area_47m_R\n",
      "PreCuneus_Visual_Area_L\n",
      "VentroMedial_Visual_Area_1_R\n",
      "Area_STSd_anterior_L\n",
      "Area_47s_R\n",
      "Orbital_Frontal_Complex_L\n",
      "Entorhinal_Cortex_L\n",
      "VentroMedial_Visual_Area_2_R\n",
      "ProStriate_Area_L\n",
      "Area_STSv_anterior_R\n",
      "Area_Lateral_IntraParietal_dorsal_L\n",
      "Superior_Temporal_Visual_Area_L\n",
      "Area_TA2_L\n",
      "Anterior_Agranular_Insula_Complex_R\n",
      "Area_31a_L\n",
      "Area_25_L\n",
      "Frontal_Opercular_Area_2_R\n",
      "Area_V3A_L\n",
      "Medial_IntraParietal_Area_L\n",
      "Area_STGa_R\n",
      "Area_TA2_R\n",
      "Area_10v_L\n",
      "Premotor_Eye_Field_L\n",
      "Area_s32_L\n",
      "ParaHippocampal_Area_1_R\n",
      "Area_PFt_R\n",
      "ParaBelt_Complex_R\n",
      "Area_Posterior_24_prime_L\n",
      "Pirform_Cortex_L\n",
      "Frontal_Opercular_Area_3_R\n",
      "Area_PF_Opercular_R\n",
      "Medial_Belt_Complex_R\n",
      "Anterior_Agranular_Insula_Complex_L\n",
      "Area_33_prime_L\n",
      "Lateral_Area_7A_L\n",
      "Entorhinal_Cortex_R\n",
      "Primary_Auditory_Cortex_R\n",
      "Area_23c_L\n",
      "Insular_Granular_Complex_L\n",
      "Area_23d_R\n",
      "Posterior_Insular_Area_2_R\n",
      "Posterior_OFC_Complex_L\n",
      "Area_5m_ventral_L\n",
      "Para-Insular_Area_R\n",
      "Area_52_R\n",
      "Lateral_Belt_Complex_R\n"
     ]
    }
   ],
   "source": [
    "for i in range(126):\n",
    "    print(idx_to_region(x1_idx[i])[0])"
   ]
  },
  {
   "cell_type": "code",
   "execution_count": 54,
   "id": "359abcf1",
   "metadata": {},
   "outputs": [
    {
     "name": "stdout",
     "output_type": "stream",
     "text": [
      "(2, 5, 4)\n",
      "[[0.25367979 0.02382048 0.33184536 0.40384555]\n",
      " [0.69657092 0.89883419 0.13869341 0.41282602]\n",
      " [0.74274405 0.2220609  0.71488733 0.37752014]\n",
      " [0.19415104 0.19043243 0.37469467 0.90564846]\n",
      " [0.8200625  0.97410926 0.56013497 0.342319  ]]\n",
      "[[10.25879885 10.177274   10.21848779 10.8491522 ]\n",
      " [10.13658401 10.66826993 10.84697519 10.35503477]\n",
      " [10.26749805 10.51466823 10.53877324 10.21848767]\n",
      " [10.28406676 10.27211084 10.14913163 10.78301748]\n",
      " [10.22956474 10.91710034 10.55437369 10.03759856]]\n"
     ]
    }
   ],
   "source": [
    "x = np.random.uniform(0, 1, (5, 4))\n",
    "y = np.random.uniform(10, 11, (5, 4))\n",
    "z = np.stack((x,y), axis=0)\n",
    "print(z.shape)\n",
    "print(z[0])\n",
    "print(z[1])"
   ]
  },
  {
   "cell_type": "code",
   "execution_count": null,
   "id": "ee58d0d4",
   "metadata": {},
   "outputs": [],
   "source": []
  },
  {
   "cell_type": "code",
   "execution_count": null,
   "id": "602b8d0d",
   "metadata": {},
   "outputs": [],
   "source": []
  },
  {
   "cell_type": "code",
   "execution_count": null,
   "id": "ede916fd",
   "metadata": {},
   "outputs": [],
   "source": []
  },
  {
   "cell_type": "code",
   "execution_count": null,
   "id": "a7be4529",
   "metadata": {},
   "outputs": [],
   "source": []
  },
  {
   "cell_type": "code",
   "execution_count": null,
   "id": "3f8f6bc2",
   "metadata": {},
   "outputs": [],
   "source": []
  },
  {
   "cell_type": "code",
   "execution_count": null,
   "id": "4efc7f69",
   "metadata": {},
   "outputs": [],
   "source": []
  }
 ],
 "metadata": {
  "kernelspec": {
   "display_name": "Python 3 (ipykernel)",
   "language": "python",
   "name": "python3"
  },
  "language_info": {
   "codemirror_mode": {
    "name": "ipython",
    "version": 3
   },
   "file_extension": ".py",
   "mimetype": "text/x-python",
   "name": "python",
   "nbconvert_exporter": "python",
   "pygments_lexer": "ipython3",
   "version": "3.8.13"
  }
 },
 "nbformat": 4,
 "nbformat_minor": 5
}
