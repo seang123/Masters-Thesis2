{
 "cells": [
  {
   "cell_type": "markdown",
   "id": "3c0b990b",
   "metadata": {},
   "source": [
    "# TPS "
   ]
  },
  {
   "cell_type": "code",
   "execution_count": 24,
   "id": "6576a539",
   "metadata": {},
   "outputs": [],
   "source": [
    "import pandas as pd\n",
    "import numpy as np\n",
    "import matplotlib.pyplot as plt\n",
    "import tqdm"
   ]
  },
  {
   "cell_type": "code",
   "execution_count": 2,
   "id": "072c357a",
   "metadata": {},
   "outputs": [],
   "source": [
    "home_dir = \"/home/hpcgies1/Projects/TPS_june/\"\n",
    "data = pd.read_parquet(f\"{home_dir}/Data/data.parquet\")"
   ]
  },
  {
   "cell_type": "markdown",
   "id": "2c79cec3",
   "metadata": {},
   "source": [
    "    Nr of NaN's per row\n",
    "        max : 9\n",
    "        min : 0\n",
    "        avg : 1"
   ]
  },
  {
   "cell_type": "code",
   "execution_count": 30,
   "id": "4aefe683",
   "metadata": {},
   "outputs": [
    {
     "name": "stdout",
     "output_type": "stream",
     "text": [
      "9 0 1.0\n"
     ]
    }
   ],
   "source": [
    "missing = data.isnull().sum(axis=1).values\n",
    "print(max(missing), min(missing), np.mean(missing))"
   ]
  },
  {
   "cell_type": "markdown",
   "id": "57bad756",
   "metadata": {},
   "source": [
    "#### Get indices with no missing values\n",
    "\n",
    "    There are 364_774 samples without NaN's (out of 1 million)"
   ]
  },
  {
   "cell_type": "code",
   "execution_count": 35,
   "id": "2fb4806f",
   "metadata": {},
   "outputs": [
    {
     "name": "stdout",
     "output_type": "stream",
     "text": [
      "364774\n"
     ]
    }
   ],
   "source": [
    "train = np.where(missing==0)[0]\n",
    "print(len(train))"
   ]
  }
 ],
 "metadata": {
  "kernelspec": {
   "display_name": "Python 3 (ipykernel)",
   "language": "python",
   "name": "python3"
  },
  "language_info": {
   "codemirror_mode": {
    "name": "ipython",
    "version": 3
   },
   "file_extension": ".py",
   "mimetype": "text/x-python",
   "name": "python",
   "nbconvert_exporter": "python",
   "pygments_lexer": "ipython3",
   "version": "3.8.13"
  }
 },
 "nbformat": 4,
 "nbformat_minor": 5
}
